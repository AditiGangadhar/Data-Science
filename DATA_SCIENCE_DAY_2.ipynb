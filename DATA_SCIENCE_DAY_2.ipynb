{
  "nbformat": 4,
  "nbformat_minor": 0,
  "metadata": {
    "colab": {
      "name": "DATA SCIENCE DAY 2",
      "provenance": [],
      "collapsed_sections": []
    },
    "kernelspec": {
      "name": "python3",
      "display_name": "Python 3"
    }
  },
  "cells": [
    {
      "cell_type": "code",
      "metadata": {
        "id": "AhDhfMD2-d29",
        "outputId": "b80a2b27-702a-4d28-848b-f65554fad4a5",
        "colab": {
          "base_uri": "https://localhost:8080/"
        }
      },
      "source": [
        "\"\"\"\n",
        "Questions 1:\n",
        "Create an empty list. Accept 10 numbers from the user and append to it the list if it is an even number\n",
        "\"\"\"\n",
        "\n",
        "numberList = []\n",
        "n = int(input(\"Enter the list size : \"))\n",
        "\n",
        "print(\"\\n\")\n",
        "for i in range(0, n):\n",
        "    print(\"Enter number at location\", i, \":\")\n",
        "    item = int(input())\n",
        "    if item%2==0:\n",
        "        numberList.append(item)\n",
        "print(\"User List is \", numberList)"
      ],
      "execution_count": null,
      "outputs": [
        {
          "output_type": "stream",
          "text": [
            "Enter the list size : 5\n",
            "\n",
            "\n",
            "Enter number at location 0 :\n",
            "2\n",
            "Enter number at location 1 :\n",
            "5\n",
            "Enter number at location 2 :\n",
            "9\n",
            "Enter number at location 3 :\n",
            "4\n",
            "Enter number at location 4 :\n",
            "2\n",
            "User List is  [2, 4, 2]\n"
          ],
          "name": "stdout"
        }
      ]
    },
    {
      "cell_type": "code",
      "metadata": {
        "id": "1cnZFrVJ-ddf",
        "outputId": "4835c3c3-917b-46ef-f713-a06aa3b9c48f",
        "colab": {
          "base_uri": "https://localhost:8080/"
        }
      },
      "source": [
        "\"\"\"\n",
        "Questions 2:\n",
        "Create a notebook on LIST COMPREHENSION. This exercise is to put you in a Self learning mode.\n",
        "\"\"\"\n",
        "\n",
        "name = [ letter for letter in 'ADITI' ]\n",
        "print( name)"
      ],
      "execution_count": null,
      "outputs": [
        {
          "output_type": "stream",
          "text": [
            "['A', 'D', 'I', 'T', 'I']\n"
          ],
          "name": "stdout"
        }
      ]
    },
    {
      "cell_type": "code",
      "metadata": {
        "id": "lRaieldz-Xb5",
        "outputId": "0e44377b-31b8-4a16-c9be-2d455ef593bf",
        "colab": {
          "base_uri": "https://localhost:8080/"
        }
      },
      "source": [
        "\"\"\"\n",
        "Questions 3:\n",
        "You have seen in the videos how powerful dictionary data structure is.\n",
        "In this assignment, given a number n, you have to write a program that generates a dictionary d which\n",
        "contains (i, i*i), where i is from 1 to n (both included).\n",
        "Then you have to just print this dictionary d.\n",
        "Example:\n",
        "Input: 4\n",
        "will give output as\n",
        "{1: 1, 2: 4, 3: 9, 4: 16}\n",
        "Input Format:\n",
        "Take the number n in a single line.\n",
        "Output Format:\n",
        "Print the dictionary d in a single line.\n",
        "Example:\n",
        "Input:\n",
        "8\n",
        "Output:\n",
        "{1: 1, 2: 4, 3: 9, 4: 16, 5: 25, 6: 36, 7: 49, 8: 64}\n",
        "\"\"\"\n",
        "\n",
        "n=int(input(\"Input a number \"))\n",
        "d = dict()\n",
        "\n",
        "for x in range(1,n+1):\n",
        "    d[x]=x*x\n",
        "\n",
        "print(d) "
      ],
      "execution_count": null,
      "outputs": [
        {
          "output_type": "stream",
          "text": [
            "Input a number 4\n",
            "{1: 1, 2: 4, 3: 9, 4: 16}\n"
          ],
          "name": "stdout"
        }
      ]
    },
    {
      "cell_type": "code",
      "metadata": {
        "id": "3VQibI1h4AVs",
        "outputId": "77d4a020-dbfd-463e-b18f-e3f36090fc51",
        "colab": {
          "base_uri": "https://localhost:8080/"
        }
      },
      "source": [
        "\"\"\"\n",
        "Questions 4:\n",
        "There is a robot which wants to go the charging point to charge itself.\n",
        "The robot moves in a 2-D plane from the original point (0,0). The robot can\n",
        "move toward UP, DOWN, LEFT and RIGHT with given steps.\n",
        "The trace of robot movement is shown as the following:\n",
        "UP 5\n",
        "DOWN 3\n",
        "LEFT 3\n",
        "RIGHT 2\n",
        "Then, the output of the program should be:\n",
        "2\n",
        "The numbers after the direction are steps.\n",
        "Write a program to compute the distance between the current position after\n",
        "a sequence of movement and original point. If the distance is a float, then\n",
        "just print the nearest integer (use round() function for that and then convert\n",
        "it into an integer).\n",
        "Input Format:\n",
        "The first line of the input contains a number n which implies the number of\n",
        "directions to be given.\n",
        "The next n lines contain the direction and the step separated by a space.\n",
        "Output Format:\n",
        "Print the distance from the original position to the current position.\n",
        "Example:\n",
        "Input:\n",
        "4\n",
        "UP 5\n",
        "DOWN 3\n",
        "LEFT 3\n",
        "RIGHT 2\n",
        "Output:\n",
        "2\n",
        "\"\"\"\n",
        "\n",
        "import  math\n",
        "\n",
        "x,y = 0,0\n",
        "while True:\n",
        "    s = input().split()\n",
        "    if not s:\n",
        "        break\n",
        "    if s[0]=='UP':                  # s[0] indicates command\n",
        "        x-=int(s[1])                # s[1] indicates unit of move\n",
        "    if s[0]=='DOWN':\n",
        "        x+=int(s[1])\n",
        "    if s[0]=='LEFT':\n",
        "        y-=int(s[1])\n",
        "    if s[0]=='RIGHT':\n",
        "        y+=int(s[1])\n",
        "                                    # N**P means N^P\n",
        "dist = round(math.sqrt(x**2 + y**2))   # euclidean distance = square root of (x^2+y^2) and rounding it to nearest integer\n",
        "print(dist)\n"
      ],
      "execution_count": null,
      "outputs": [
        {
          "output_type": "stream",
          "text": [
            "4\n",
            "UP 5\n",
            "DOWN 3\n",
            "LEFT 3\n",
            "RIGHT 2 \n",
            "\n",
            "2\n"
          ],
          "name": "stdout"
        }
      ]
    },
    {
      "cell_type": "code",
      "metadata": {
        "id": "5Nf9qoUT-TxI"
      },
      "source": [
        ""
      ],
      "execution_count": null,
      "outputs": []
    }
  ]
}