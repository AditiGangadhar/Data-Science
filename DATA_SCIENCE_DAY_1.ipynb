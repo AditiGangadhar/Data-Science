{
  "nbformat": 4,
  "nbformat_minor": 0,
  "metadata": {
    "colab": {
      "name": "DATA SCIENCE DAY 1",
      "provenance": [],
      "collapsed_sections": []
    },
    "kernelspec": {
      "name": "python3",
      "display_name": "Python 3"
    }
  },
  "cells": [
    {
      "cell_type": "code",
      "metadata": {
        "id": "wgwyNOp-Aij1",
        "outputId": "bff09f35-4b9f-48df-bf9e-c414a6e04744",
        "colab": {
          "base_uri": "https://localhost:8080/"
        }
      },
      "source": [
        "\"\"\"\n",
        "QUESTION 2\n",
        "Write a program which prints “LETS UPGRADE”. (Please note that you have to print in ALL CAPS as given).\n",
        "\"\"\"\n",
        "\n",
        "\n",
        "string = \"lets upgrade\"\n",
        "print(string.upper())"
      ],
      "execution_count": 1,
      "outputs": [
        {
          "output_type": "stream",
          "text": [
            "LETS UPGRADE\n"
          ],
          "name": "stdout"
        }
      ]
    },
    {
      "cell_type": "code",
      "metadata": {
        "id": "Zx5WHgn7As_M",
        "outputId": "db1bbcc6-667f-492e-81e2-3f8b6bd60e26",
        "colab": {
          "base_uri": "https://localhost:8080/"
        }
      },
      "source": [
        "\"\"\"\n",
        "Questions 3:\n",
        "Write a program that takes cost price and selling price as input and displays whether the transaction is a\n",
        "Profit or a Loss or Neither.\n",
        "INPUT FORMAT\n",
        "The first line contains the cost price.\n",
        "The second line contains the selling price.\n",
        "OUTPUT FORMAT\n",
        "Print \"Profit\" if the transaction is a profit or \"Loss\" if it is a loss. If it is neither\n",
        "profit nor loss, print \"Neither\". (You must not have quotes in your output)\n",
        "\"\"\"\n",
        "\n",
        "cs=input(\"Enter the cost price:\")\n",
        "ss=input(\"Enter the selling price:\")\n",
        "if cs>ss:\n",
        "    print(\"Loss\")\n",
        "elif ss>cs:\n",
        "    print(\"Profit\")\n",
        "else:\n",
        "    print(\"Neither\")"
      ],
      "execution_count": 2,
      "outputs": [
        {
          "output_type": "stream",
          "text": [
            "Enter the cost price:400\n",
            "Enter the selling price:700\n",
            "Profit\n"
          ],
          "name": "stdout"
        }
      ]
    },
    {
      "cell_type": "code",
      "metadata": {
        "id": "LMr5_SvgBCxR",
        "outputId": "c9a86ef8-398e-49cf-a63f-406e02d78310",
        "colab": {
          "base_uri": "https://localhost:8080/"
        }
      },
      "source": [
        "\"\"\"\n",
        "Questions 4:\n",
        "Write a program that takes an amount in Euros as input. You need to find its equivalent in\n",
        "Rupees and display it. Assume 1 Euro equals Rs. 80.\n",
        "Please note that you are expected to stick to the given input and output\n",
        "format as in sample test cases. Please don't add any extra lines such as\n",
        "'Enter a number', etc.\n",
        "Your program should take only one number as input and display the output.\n",
        "\"\"\"\n",
        "\n",
        "\n",
        "x=int(input(\"Enter the amount in Euro:\"))\n",
        "y=80\n",
        "z=x*80\n",
        "print(\"Amount in Rupees is:\",z)"
      ],
      "execution_count": 3,
      "outputs": [
        {
          "output_type": "stream",
          "text": [
            "Enter the amount in Euro:500\n",
            "Amount in Rupees is: 40000\n"
          ],
          "name": "stdout"
        }
      ]
    },
    {
      "cell_type": "code",
      "metadata": {
        "id": "_RKvPiV5BQAl",
        "outputId": "db7958e0-2cc7-45f3-b938-91ee6947628a",
        "colab": {
          "base_uri": "https://localhost:8080/",
          "height": 203
        }
      },
      "source": [
        "\"\"\"\n",
        "Question 1:\n",
        "\"\"\"\n",
        "unjumbleKey('OBANWRI')\n"
      ],
      "execution_count": 4,
      "outputs": [
        {
          "output_type": "error",
          "ename": "NameError",
          "evalue": "ignored",
          "traceback": [
            "\u001b[0;31m---------------------------------------------------------------------------\u001b[0m",
            "\u001b[0;31mNameError\u001b[0m                                 Traceback (most recent call last)",
            "\u001b[0;32m<ipython-input-4-970e4cb6e9c0>\u001b[0m in \u001b[0;36m<module>\u001b[0;34m()\u001b[0m\n\u001b[1;32m      2\u001b[0m \u001b[0mQuestion\u001b[0m \u001b[0;36m1\u001b[0m\u001b[0;34m:\u001b[0m\u001b[0;34m\u001b[0m\u001b[0;34m\u001b[0m\u001b[0m\n\u001b[1;32m      3\u001b[0m \"\"\"\n\u001b[0;32m----> 4\u001b[0;31m \u001b[0munjumbleKey\u001b[0m\u001b[0;34m(\u001b[0m\u001b[0;34m'OBANWRI'\u001b[0m\u001b[0;34m)\u001b[0m\u001b[0;34m\u001b[0m\u001b[0;34m\u001b[0m\u001b[0m\n\u001b[0m",
            "\u001b[0;31mNameError\u001b[0m: name 'unjumbleKey' is not defined"
          ]
        }
      ]
    }
  ]
}